{
 "cells": [
  {
   "cell_type": "code",
   "execution_count": 1,
   "metadata": {},
   "outputs": [],
   "source": [
    "import matplotlib.pyplot as plt\n",
    "import seaborn as sns\n",
    "import pandas as pd"
   ]
  },
  {
   "cell_type": "code",
   "execution_count": 1,
   "metadata": {},
   "outputs": [],
   "source": [
    "from sklearn.preprocessing import LabelEncoder\n",
    "from sklearn.preprocessing import PolynomialFeatures\n",
    "from xgboost import XGBClassifier\n",
    "from catboost import CatBoostClassifier\n",
    "from sklearn.neighbors import KNeighborsClassifier\n",
    "from sklearn.svm import SVC, LinearSVC\n",
    "from sklearn.tree import DecisionTreeClassifier\n",
    "from sklearn.ensemble import RandomForestClassifier\n",
    "from sklearn.pipeline import Pipeline\n",
    "from sklearn.preprocessing import StandardScaler, MinMaxScaler, RobustScaler\n",
    "from sklearn.model_selection import train_test_split\n",
    "from sklearn.metrics import accuracy_score, confusion_matrix, classification_report"
   ]
  },
  {
   "cell_type": "code",
   "execution_count": 4,
   "metadata": {},
   "outputs": [],
   "source": [
    "# Method for label encoding\n",
    "def label_encoder(column):\n",
    "    le = LabelEncoder()\n",
    "    label = le.fit_transform(column)\n",
    "    mapping = {index: label for index, label in enumerate(le.classes_)}\n",
    "    column = label\n",
    "    return column"
   ]
  },
  {
   "cell_type": "code",
   "execution_count": 7,
   "metadata": {},
   "outputs": [],
   "source": [
    "# Sci-Kit Learn Pipeline that loops through a list of Classifiers\n",
    "# Pipeline uses StandardScaler\n",
    "# This Pipeline was created for finding the best performing model by iterating through the models and saving the metrics\n",
    "# Returns a dataframe that contains model names and their accuracy scores\n",
    "\n",
    "def pipe_report(features, target, models):\n",
    "    X_train, X_test, y_train, y_test = train_test_split(features, target, test_size=0.25, random_state=42)\n",
    "    \n",
    "    model_names = [model.__class__.__name__ for model in models]\n",
    "    score_list = []\n",
    "    \n",
    "    for model in models:\n",
    "        pipe = Pipeline([\n",
    "        ('scaler', StandardScaler()),\n",
    "        ('model', model)\n",
    "        ])\n",
    "\n",
    "        pipe.fit(X_train, y_train)\n",
    "        y_pred = pipe.predict(X_test)\n",
    "        score_list.append(accuracy_score(y_test, y_pred))\n",
    "        \n",
    "    df_pipe = pd.DataFrame({'Model': model_names, 'Accuracy': score_list}).sort_values(by='Accuracy', ascending=False)\n",
    "    return df_pipe"
   ]
  },
  {
   "cell_type": "code",
   "execution_count": 6,
   "metadata": {},
   "outputs": [],
   "source": [
    "# Sci-Kit Learn Pipeline that loops through a list of Classifiers\n",
    "# Pipeline uses PolynomialFeatures for transformation and StandardScaler for scaling\n",
    "# This Pipeline was created for finding the best performing model by iterating through the models and saving the metrics\n",
    "# Returns a dataframe that contains model names and their accuracy scores\n",
    "\n",
    "def pipe_poly_report(features, target, models):\n",
    "    X_train, X_test, y_train, y_test = train_test_split(features, target, test_size=0.25, random_state=42)\n",
    "    \n",
    "    model_names = [model.__class__.__name__ for model in models]\n",
    "    score_list = []\n",
    "    \n",
    "    for model in models:\n",
    "        pipe = Pipeline([\n",
    "        ('scaler', StandardScaler()),\n",
    "        ('polynomial transformation', PolynomialFeatures(degree=2, include_bias=False, interaction_only=False)),\n",
    "        ('model', model)\n",
    "        ])\n",
    "\n",
    "        pipe.fit(X_train, y_train)\n",
    "        y_pred = pipe.predict(X_test)\n",
    "        score_list.append(accuracy_score(y_test, y_pred))\n",
    "        \n",
    "    df_pipe_poly = pd.DataFrame({'Model': model_names, 'Accuracy': score_list}).sort_values(by='Accuracy', ascending=False)\n",
    "    return df_pipe_poly"
   ]
  },
  {
   "cell_type": "code",
   "execution_count": null,
   "metadata": {},
   "outputs": [],
   "source": [
    "# Method for creating the best pipeline after getting choosing best model\n",
    "def pipe_poly(X_train, y_train, model):\n",
    "    scaler = StandardScaler()\n",
    "    pf = PolynomialFeatures(degree=2, include_bias=False, interaction_only=False)\n",
    "    \n",
    "    pipe = Pipeline([\n",
    "        ('scaler', scaler),\n",
    "        ('polynomial transformation', pf),\n",
    "        ('model', model)\n",
    "    ])\n",
    "\n",
    "    pipe.fit(X_train, y_train)\n",
    "    return pipe"
   ]
  }
 ],
 "metadata": {
  "kernelspec": {
   "display_name": "Python 3",
   "language": "python",
   "name": "python3"
  },
  "language_info": {
   "codemirror_mode": {
    "name": "ipython",
    "version": 3
   },
   "file_extension": ".py",
   "mimetype": "text/x-python",
   "name": "python",
   "nbconvert_exporter": "python",
   "pygments_lexer": "ipython3",
   "version": "3.11.4"
  },
  "orig_nbformat": 4
 },
 "nbformat": 4,
 "nbformat_minor": 2
}
